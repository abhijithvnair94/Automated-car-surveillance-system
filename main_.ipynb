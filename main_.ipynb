{
 "cells": [
  {
   "cell_type": "markdown",
   "metadata": {},
   "source": [
    "# CAR DETECTION ALONG WITH CLASSIFICATION"
   ]
  },
  {
   "cell_type": "code",
   "execution_count": null,
   "metadata": {},
   "outputs": [],
   "source": [
    "# from keras.models import Sequential, Model\n",
    "from keras.layers import Input  #, Reshape, Activation, Conv2D,MaxPooling2D, BatchNormalization, Flatten, Dense, Lambda\n",
    "# from keras.layers.advanced_activations import LeakyReLU\n",
    "# from keras.optimizers import SGD, Adam, RMSprop\n",
    "# from keras.layers.merge import concatenate\n",
    "import matplotlib.pyplot as plt\n",
    "import keras.backend as K\n",
    "# import tensorflow as tf\n",
    "import pandas as pd\n",
    "# import imgaug as ia\n",
    "# from tqdm import tqdm\n",
    "from console_progressbar import ProgressBar\n",
    "# from imgaug import augmenters as iaa\n",
    "import numpy as np\n",
    "import pickle\n",
    "import os, cv2, time\n",
    "from PIL import Image\n",
    "from utils_ import  decode_netout, draw_boxes, boxes_make,load_model, final_image,crop_blob\n",
    "from architecture import architecture\n",
    "os.environ[\"CUDA_DEVICE_ORDER\"] = \"PCI_BUS_ID\"\n",
    "os.environ[\"CUDA_VISIBLE_DEVICES\"] = \"5\"\n",
    "\n",
    "%matplotlib inline"
   ]
  },
  {
   "cell_type": "code",
   "execution_count": null,
   "metadata": {},
   "outputs": [],
   "source": [
    "LABELS = ['car']\n",
    "\n",
    "IMAGE_H, IMAGE_W = 416, 416 #based on the coco dataset for detection training\n",
    "GRID_H,  GRID_W  = 13 , 13\n",
    "BOX              = 5\n",
    "CLASS            = 1\n",
    "OBJ_THRESHOLD    = 0.3\n",
    "NMS_THRESHOLD    = 0.3\n",
    "ANCHORS          = [0.47,0.42, 1.28,1.09, 2.68,2.54, 6.17,4.34, 10.56,9.29]\n",
    "\n",
    "TRUE_BOX_BUFFER  = 50"
   ]
  },
  {
   "cell_type": "markdown",
   "metadata": {},
   "source": [
    "## Model Architecture for YOLO"
   ]
  },
  {
   "cell_type": "code",
   "execution_count": null,
   "metadata": {},
   "outputs": [],
   "source": [
    "input_image = Input(shape=(IMAGE_H, IMAGE_W, 3))\n",
    "true_boxes  = Input(shape=(1, 1, 1, TRUE_BOX_BUFFER , 4))\n",
    "\n",
    "model = architecture(input_image,true_boxes)"
   ]
  },
  {
   "cell_type": "code",
   "execution_count": null,
   "metadata": {},
   "outputs": [],
   "source": [
    "model.load_weights(\"weights_coco_car_1.h5\") #weight for car detection --> pretrained wt using COCO car dataset"
   ]
  },
  {
   "cell_type": "code",
   "execution_count": null,
   "metadata": {},
   "outputs": [],
   "source": [
    "path_val = './sample/'"
   ]
  },
  {
   "cell_type": "code",
   "execution_count": null,
   "metadata": {},
   "outputs": [],
   "source": [
    "imag_val=[]\n",
    "image_name = []  ####\n",
    "\n",
    "for file in os.listdir(path_val):\n",
    "    if file.endswith('.jpg'):\n",
    "        cc = os.path.join(file)\n",
    "        i_n = file.strip('.jpg') ###\n",
    "        image_name.append(i_n) ####\n",
    "        imag_val.append(cc)\n",
    "\n"
   ]
  },
  {
   "cell_type": "code",
   "execution_count": null,
   "metadata": {},
   "outputs": [],
   "source": [
    "for m in range(len(imag_val)):\n",
    "    \n",
    "    image = cv2.imread(path_val + imag_val[m])\n",
    "    dummy_array = np.zeros((1,1,1,1,TRUE_BOX_BUFFER,4))\n",
    "\n",
    "\n",
    "    input_image = cv2.resize(image, (416, 416))\n",
    "    input_image = input_image / 255.\n",
    "    input_image = input_image[:,:,::-1]\n",
    "    input_image = np.expand_dims(input_image, 0)\n",
    "\n",
    "    netout = model.predict([input_image, dummy_array])\n",
    "\n",
    "    boxes = decode_netout(netout[0], \n",
    "                      obj_threshold=OBJ_THRESHOLD,\n",
    "                      nms_threshold=NMS_THRESHOLD,\n",
    "                      anchors=ANCHORS, \n",
    "                      nb_class=CLASS)          #create the boxes\n",
    "#       \n",
    "    b = boxes_make(image, boxes) # taking the corresponding blobes of each image\n",
    "    \n",
    "    \n",
    "    if len(b)>0:\n",
    "        current_loc = os.getcwd()\n",
    "        new_dir = 'save_' + image_name[m]\n",
    "        os.mkdir(new_dir)\n",
    "        \n",
    "        for j in range(len(b)):\n",
    "              \n",
    "            pat = path_val + imag_val[m]\n",
    "            save_loc = current_loc + new_dir\n",
    "\n",
    "            crop_blob(pat, (b[j][0], b[j][1], b[j][2], b[j][3]), save_loc + str(j) + '_' + imag_val[m])\n"
   ]
  },
  {
   "cell_type": "code",
   "execution_count": null,
   "metadata": {},
   "outputs": [],
   "source": [
    "img_test=[]\n",
    "p = '/home/abhijithmtmt17/essi/CAR_DETECTIONMODEL/sample/save/'\n",
    "for file in os.listdir(p):\n",
    "    if file.endswith('.jpg'):\n",
    "        cc = os.path.join(file)\n",
    "        img_test.append(cc)\n"
   ]
  },
  {
   "cell_type": "code",
   "execution_count": null,
   "metadata": {},
   "outputs": [],
   "source": [
    "for i in range(len(img_test)):\n",
    "    \n",
    "    image_ = cv2.imread(p + img_test[i])\n",
    "    inputimage = cv2.resize(image_, (224,224))\n",
    "    inputimage = inputimage[:,:,::-1]\n",
    "\n",
    "    ii = './sample/save/' + img_test[i]\n",
    "    plt.imsave(ii, inputimage[:,:])\n",
    "\n",
    "#     plt.axis('off')\n",
    "    \n",
    "#     plt.savefig(ii)\n",
    "    \n"
   ]
  },
  {
   "cell_type": "markdown",
   "metadata": {},
   "source": [
    "## TEST USING CAR CLASSIFICATION MODEL"
   ]
  },
  {
   "cell_type": "code",
   "execution_count": null,
   "metadata": {},
   "outputs": [],
   "source": [
    "path = './sample/save/'\n",
    "test_image = []\n",
    "\n",
    "import os\n",
    "for file in os.listdir(path):\n",
    "    if file.endswith('.jpg'):\n",
    "        cc = os.path.join(file)\n",
    "        test_image.append(cc)"
   ]
  },
  {
   "cell_type": "code",
   "execution_count": null,
   "metadata": {},
   "outputs": [],
   "source": []
  },
  {
   "cell_type": "code",
   "execution_count": null,
   "metadata": {},
   "outputs": [],
   "source": [
    "model = load_model() #model trained on standford car dataset\n",
    "\n",
    "pb = ProgressBar(total=100, prefix='Predicting test data', suffix='', decimals=3, length=50, fill='=')\n",
    "num_samples = len(test_image)\n",
    "i=0\n",
    "\n",
    "# start = time.time()\n",
    "# l = str(m)\n",
    "out = open('result_' + imag_val[m] + '.txt', 'a')\n",
    "for i in range(num_samples):\n",
    "    filename = os.path.join(path,test_image[i])\n",
    "    bgr_img = cv2.imread(filename)\n",
    "    rgb_img = cv2.cvtColor(bgr_img, cv2.COLOR_BGR2RGB)\n",
    "    rgb_img = cv2.resize(rgb_img, (224,224))\n",
    "    rgb_img = np.expand_dims(rgb_img, 0)\n",
    "    preds = model.predict(rgb_img)\n",
    "    prob = np.max(preds)\n",
    "    \n",
    "    \n",
    "    if prob > 0.4:\n",
    "        print(prob)\n",
    "        class_id = np.argmax(preds)\n",
    "        name = filename.strip('/home/abhijithmtmt17/essi/CAR_DETECTIONMODEL/sample/')\n",
    "        out.write(test_image[i] + '\\t{}\\n'.format(str(class_id + 1)))\n",
    "#     pb.print_progress_bar((i + 1) * 100 / num_samples)\n",
    "\n",
    "# end = time.time()\n",
    "# seconds = end - start\n",
    "# print('avg fps: {}'.format(str(num_samples / seconds)))\n",
    "\n",
    "out.close()\n",
    "K.clear_session()\n",
    "\n"
   ]
  },
  {
   "cell_type": "code",
   "execution_count": null,
   "metadata": {},
   "outputs": [],
   "source": [
    "imag_val[0]"
   ]
  },
  {
   "cell_type": "code",
   "execution_count": null,
   "metadata": {},
   "outputs": [],
   "source": [
    "with open('result_' + imag_val[m] + '.txt', 'r') as f:\n",
    "    pred_class = [line.strip() for line in f] #predclass have category no.\n",
    "\n",
    "imagename = [i.split('\\t', 1)[0] for i in pred_class]\n",
    "cat_name = [i.split('\\t', 1)[1] for i in pred_class]"
   ]
  },
  {
   "cell_type": "code",
   "execution_count": null,
   "metadata": {},
   "outputs": [],
   "source": []
  },
  {
   "cell_type": "code",
   "execution_count": null,
   "metadata": {},
   "outputs": [],
   "source": [
    "model_name = pd.read_csv('model_names.csv')\n",
    "model_name_list=[]\n",
    "\n",
    "for i in range(len(model_name)):\n",
    "    \n",
    "    model_name_list.append(model_name.iloc[i].values)"
   ]
  },
  {
   "cell_type": "code",
   "execution_count": null,
   "metadata": {},
   "outputs": [],
   "source": [
    "box_no = []\n",
    "model = []\n",
    "for x in range(len(cat_name)):\n",
    "\n",
    "    cat = int(cat_name[x]) #converting the class no to integer\n",
    "    image = imagename[x] \n",
    "    \n",
    "    for i in range(len(model_name)):\n",
    "        \n",
    "        if cat == (i+1):\n",
    "\n",
    "#             print(image + ' - ' + cat_name[x] + ' --> '+ model_name_list[i]) #\n",
    "            k = image.rsplit('_',2)\n",
    "            box_no.append(k[0])\n",
    "            model.append(model_name_list[i])\n",
    "            \n",
    "        "
   ]
  },
  {
   "cell_type": "code",
   "execution_count": null,
   "metadata": {},
   "outputs": [],
   "source": [
    "boxes_list = [] #taking corresponding blob parameters\n",
    "\n",
    "for val in box_no:\n",
    "    y = int(val)\n",
    "    boxes_list.append(b[y])"
   ]
  },
  {
   "cell_type": "code",
   "execution_count": null,
   "metadata": {},
   "outputs": [],
   "source": [
    "#printing final image\n",
    "\n",
    "image = cv2.imread(path_val + imag_val[m])\n",
    "plt.figure(figsize=(10,10))\n",
    "image = final_image(image, boxes_list, model)\n",
    "plt.imshow(image[:,:,::-1]); plt.show()\n",
    "final_save_loc = './sample/save_final/' + imag_val[m]\n",
    "plt.imsave(final_save_loc, image[:,:,::-1])\n"
   ]
  },
  {
   "cell_type": "code",
   "execution_count": null,
   "metadata": {},
   "outputs": [],
   "source": [
    "one = os.getcwd()\n",
    "\n",
    "one\n"
   ]
  },
  {
   "cell_type": "code",
   "execution_count": null,
   "metadata": {},
   "outputs": [],
   "source": [
    "fld ='try'\n",
    "\n",
    "os.mkdir(fld)"
   ]
  },
  {
   "cell_type": "code",
   "execution_count": null,
   "metadata": {},
   "outputs": [],
   "source": [
    "except OSError:  \n",
    "    print (\"Creation of the directory %s failed\" % path)\n",
    "else:  \n",
    "    print (\"Successfully created the directory %s \" % path)\n"
   ]
  },
  {
   "cell_type": "code",
   "execution_count": null,
   "metadata": {},
   "outputs": [],
   "source": [
    "psss = one + '/' + fld + '/'\n",
    "\n",
    "psss"
   ]
  }
 ],
 "metadata": {
  "kernelspec": {
   "display_name": "pytorch",
   "language": "python",
   "name": "pytorch"
  },
  "language_info": {
   "codemirror_mode": {
    "name": "ipython",
    "version": 3
   },
   "file_extension": ".py",
   "mimetype": "text/x-python",
   "name": "python",
   "nbconvert_exporter": "python",
   "pygments_lexer": "ipython3",
   "version": "3.6.7"
  }
 },
 "nbformat": 4,
 "nbformat_minor": 2
}
